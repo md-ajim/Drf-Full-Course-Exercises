{
 "cells": [
  {
   "cell_type": "code",
   "execution_count": null,
   "id": "5b9255df",
   "metadata": {},
   "outputs": [],
   "source": []
  },
  {
   "cell_type": "code",
   "execution_count": 9,
   "id": "498ddb28",
   "metadata": {},
   "outputs": [
    {
     "name": "stdout",
     "output_type": "stream",
     "text": [
      "Hello Ajim Welcome to Python and Django!\n"
     ]
    }
   ],
   "source": [
    "\n",
    "name = input('Enter you name')\n",
    "\n",
    "print(f'Hello {name} Welcome to Python and Django!')"
   ]
  },
  {
   "cell_type": "code",
   "execution_count": 11,
   "id": "2ef487a1",
   "metadata": {},
   "outputs": [
    {
     "data": {
      "text/plain": [
       "'Hi Ajim it is a function!'"
      ]
     },
     "execution_count": 11,
     "metadata": {},
     "output_type": "execute_result"
    }
   ],
   "source": [
    "\n",
    "def  greet_user_fun(name):\n",
    "    return f'Hi { name} it is a function!'\n",
    "\n",
    "\n",
    "\n",
    "greet_user_fun(name)\n"
   ]
  }
 ],
 "metadata": {
  "kernelspec": {
   "display_name": "Python 3",
   "language": "python",
   "name": "python3"
  },
  "language_info": {
   "codemirror_mode": {
    "name": "ipython",
    "version": 3
   },
   "file_extension": ".py",
   "mimetype": "text/x-python",
   "name": "python",
   "nbconvert_exporter": "python",
   "pygments_lexer": "ipython3",
   "version": "3.13.5"
  }
 },
 "nbformat": 4,
 "nbformat_minor": 5
}
