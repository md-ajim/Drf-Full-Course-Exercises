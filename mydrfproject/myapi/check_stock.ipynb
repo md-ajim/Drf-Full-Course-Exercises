{
 "cells": [
  {
   "cell_type": "code",
   "execution_count": 12,
   "id": "f6b56dd5",
   "metadata": {},
   "outputs": [
    {
     "name": "stdout",
     "output_type": "stream",
     "text": [
      "None\n"
     ]
    }
   ],
   "source": [
    "def  check_stock(quantity):\n",
    "    if quantity >= 100:\n",
    "        return f'Stock {quantity} is not available'\n",
    "    elif 20 < quantity  <= 50 :\n",
    "        return f'Stock {quantity} is available'\n",
    "    elif 1 < quantity <= 10:\n",
    "        return f'Stock {quantity} is low'\n",
    "    \n",
    "\n",
    "\n",
    "quantity = int(input('Enter a quantity :'))\n",
    "\n",
    "print( check_stock(quantity))\n",
    "    \n"
   ]
  }
 ],
 "metadata": {
  "kernelspec": {
   "display_name": "Python 3",
   "language": "python",
   "name": "python3"
  },
  "language_info": {
   "codemirror_mode": {
    "name": "ipython",
    "version": 3
   },
   "file_extension": ".py",
   "mimetype": "text/x-python",
   "name": "python",
   "nbconvert_exporter": "python",
   "pygments_lexer": "ipython3",
   "version": "3.13.5"
  }
 },
 "nbformat": 4,
 "nbformat_minor": 5
}
